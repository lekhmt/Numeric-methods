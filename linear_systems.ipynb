{
 "cells": [
  {
   "cell_type": "markdown",
   "metadata": {},
   "source": [
    "# Вариант 11"
   ]
  },
  {
   "cell_type": "code",
   "execution_count": 214,
   "metadata": {},
   "outputs": [],
   "source": [
    "import numpy as np\n",
    "np.set_printoptions(precision=3, suppress=True)"
   ]
  },
  {
   "attachments": {},
   "cell_type": "markdown",
   "metadata": {},
   "source": [
    "## LU-разложение"
   ]
  },
  {
   "cell_type": "markdown",
   "metadata": {},
   "source": [
    "LU-разложение - это разложение матрицы $A$ в проивзедение нижней и верхней треугольных матриц, то есть $A = LU$. Это разложение может быть произведено в ходе использования метода Гаусса.\n",
    "\n",
    "На $k$-ом шаге метода происходит обнуление поддиагональных элементов $k$-ого столбца матрицы, что можно записать в виде $A^{(k)} = M_k A^{(k-1)}$, где элементы матрицы $M_k$ считаются следующим образом: $m^{(k)}_{ik} = -a^{(k - 1)}_{ik} / a^{(k - 1)}_{kk}$ для элементов под главной диагональю $k$-ого столбца; $m^{(k)}_{ii} = 1$ для элементов главной диагонали; $m^{(k)}_{ij} = 0$ для всех остальных. В таком случае в итоге получаем $U = A^{(n - 1)}$ и $L = M^{-1}_1M^{-1}_2...M^{-1}_n$."
   ]
  },
  {
   "cell_type": "code",
   "execution_count": 215,
   "metadata": {},
   "outputs": [
    {
     "name": "stdout",
     "output_type": "stream",
     "text": [
      "[[  2.  -8.   0.   5. -40.]\n",
      " [ -9.   9.  -7.   6. -58.]\n",
      " [ -6.   7.   3.   8. -75.]\n",
      " [ -1.   8.   5.   1.   1.]]\n"
     ]
    }
   ],
   "source": [
    "matrix_array = np.loadtxt('src/lu.txt')\n",
    "print(matrix_array)\n",
    "shape = matrix_array.shape"
   ]
  },
  {
   "cell_type": "code",
   "execution_count": 216,
   "metadata": {},
   "outputs": [],
   "source": [
    "def decompose_column(matrix, column):\n",
    "    l_matrix_column = np.zeros((shape[0], 1))\n",
    "    for row in range (column + 1, shape[0]):\n",
    "        l_matrix_value = (matrix[row, column] / matrix[column, column])\n",
    "        l_matrix_column[row, 0] = l_matrix_value\n",
    "        matrix[row, :] += matrix[column, :] * (-l_matrix_value)\n",
    "    return l_matrix_column\n",
    "\n",
    "def decompose_column_lu(matrix, column):\n",
    "    l_matrix_column = np.zeros(shape[0])\n",
    "    for row in range (column + 1, shape[0]):\n",
    "        l_matrix_value = (matrix[row, column] / matrix[column, column])\n",
    "        l_matrix_column[row] = l_matrix_value\n",
    "        matrix[row, column:] += matrix[column, column:] * (-l_matrix_value)\n",
    "    matrix[:, column] += l_matrix_column\n",
    "\n",
    "def get_matrix_with_non_zero_leading_element(matrix, column):\n",
    "    for row in range (column, shape[0]):\n",
    "        if matrix[row, column] != 0:\n",
    "            matrix[[column, row]] = matrix[[row, column]]\n",
    "            return column, row\n",
    "\n",
    "def decompose_matrix_with_lu(matrix):\n",
    "    b_column_to_swap = np.copy(matrix[:, shape[1] - 1].reshape(shape[0], 1))\n",
    "\n",
    "    for column in range(0, shape[1] - 1):\n",
    "        if matrix[column, column] == 0:\n",
    "            row_swap_1, row_swap_2 = get_matrix_with_non_zero_leading_element(matrix, column)\n",
    "\n",
    "            b_column_to_swap[[row_swap_1, row_swap_2]] = b_column_to_swap[[row_swap_2, row_swap_1]]\n",
    "\n",
    "        decompose_column_lu(matrix, column)\n",
    "\n",
    "    return matrix, b_column_to_swap\n",
    "\n",
    "def solve_lz_equation(matrix):\n",
    "    answer = []\n",
    "    for row in range (0, shape[0]):\n",
    "        sum_of_polynomial = 0\n",
    "        if row != 0:\n",
    "            for column in range(0, row):\n",
    "                sum_of_polynomial += matrix[row, column] * answer[column]\n",
    "\n",
    "        x = matrix[row, shape[1] - 1] - sum_of_polynomial\n",
    "        answer.append(x)\n",
    "\n",
    "    return np.array(answer)\n",
    "\n",
    "def solve_ux_equation(matrix):\n",
    "    answer = []\n",
    "    for row in range (shape[0] - 1, -1, -1):\n",
    "        sum_of_polynomial = 0\n",
    "        if row < shape[0]:\n",
    "            for column in range (shape[0] - 1, row, -1):\n",
    "                sum_of_polynomial +=  matrix[row, column] * answer[shape[0] - column - 1]\n",
    "\n",
    "        x = (matrix[row, shape[1] - 1] - sum_of_polynomial) / matrix[row, row]\n",
    "        answer.append(x)\n",
    "\n",
    "    answer.reverse()\n",
    "    return np.array(answer)\n",
    "\n",
    "\n",
    "def solve_with_lu(matrix):\n",
    "    lu_matrix, swapped_b_column = decompose_matrix_with_lu(matrix)\n",
    "    log_matrix(lu_matrix)\n",
    "    lu_matrix = np.delete(lu_matrix, -1, axis=1)\n",
    "    lu_matrix = np.hstack((lu_matrix, swapped_b_column))\n",
    "    z_answer = solve_lz_equation(lu_matrix)\n",
    "    z_column = np.array(z_answer, dtype=float).reshape((shape[0], 1))\n",
    "    lu_matrix = np.delete(lu_matrix, -1, axis=1)\n",
    "    determinant = np.diagonal(lu_matrix).prod()\n",
    "    lu_matrix = np.hstack((lu_matrix, z_column))\n",
    "    print(\"Определитель:\")\n",
    "    print(determinant)\n",
    "    return solve_ux_equation(lu_matrix)\n",
    "\n",
    "def inverse_matrix(matrix):\n",
    "    slau_matrix = np.delete(matrix, -1, axis=1)\n",
    "    slau_matrix = np.hstack((slau_matrix, np.identity(shape[0])))\n",
    "\n",
    "    for column in range(0, shape[1] - 1):\n",
    "        if slau_matrix[column, column] == 0:\n",
    "            get_matrix_with_non_zero_leading_element(slau_matrix, column)\n",
    "\n",
    "        decompose_column(slau_matrix, column)\n",
    "        slau_matrix[column, :] /= slau_matrix[column, column]\n",
    "\n",
    "    for column in range(shape[1] - 1, -1, -1):\n",
    "        decompose_column_backwards(slau_matrix, column - 1)\n",
    "\n",
    "    slau_shape = slau_matrix.shape\n",
    "\n",
    "    return slau_matrix[:, int(slau_shape[1] / 2) : int(slau_shape[1])]\n",
    "\n",
    "def decompose_column_backwards(matrix, column):\n",
    "    for row in range(column - 1, -1, -1):\n",
    "        l_matrix_value = (matrix[row, column] / matrix[column, column])\n",
    "        matrix[row, :] += matrix[column, :] * (-l_matrix_value)\n",
    "\n",
    "def log_matrix(lu_matrix):\n",
    "    print(\"Матрицы L и U:\")\n",
    "    print(lu_matrix)\n",
    "    print('\\n')"
   ]
  },
  {
   "cell_type": "code",
   "execution_count": 217,
   "metadata": {},
   "outputs": [
    {
     "name": "stdout",
     "output_type": "stream",
     "text": [
      "Матрицы L и U:\n",
      "[[   2.      -8.       0.       5.     -40.   ]\n",
      " [  -4.5    -27.      -7.      28.5   -238.   ]\n",
      " [  -3.       0.63     7.407    5.056  -45.148]\n",
      " [  -0.5     -0.148    0.535    5.018  -30.105]]\n",
      "\n",
      "\n",
      "Определитель:\n",
      "-2007.0000000000007\n",
      "[ 7.  3. -2. -6.]\n",
      "Обратная матрица:\n",
      "[[ 0.332  0.175 -0.399  0.484]\n",
      " [ 0.092  0.104 -0.166  0.246]\n",
      " [-0.124 -0.151  0.208 -0.136]\n",
      " [ 0.215  0.097 -0.107  0.199]]\n"
     ]
    }
   ],
   "source": [
    "print(solve_with_lu(matrix_array))\n",
    "matrix_array = np.loadtxt('src/lu.txt')\n",
    "inversed = inverse_matrix(matrix_array)\n",
    "print('Обратная матрица:')\n",
    "print(inversed)"
   ]
  },
  {
   "attachments": {},
   "cell_type": "markdown",
   "metadata": {},
   "source": [
    "## Метод прогонки\n",
    "\n",
    "Формулы прогоночных коэффициентов:\n",
    "\n",
    "$P_1 = \\frac{-c_1}{b_1}, P_i = \\frac{-c_i}{b_i + a_i P_{i-1}}$\n",
    "\n",
    "$Q_1 = \\frac{d_1}{b_1}, Q_i = \\frac{d_i - a_i Q_{i-1}}{b_i + a_i P_{i-1}}$\n",
    "\n",
    "Формулы для поиска решений: \n",
    "\n",
    "$x_n = P_n x_{n + 1} + Q_n$"
   ]
  },
  {
   "cell_type": "code",
   "execution_count": 218,
   "metadata": {},
   "outputs": [
    {
     "name": "stdout",
     "output_type": "stream",
     "text": [
      "[[-10.  -9.   0.   0.   0.   7.]\n",
      " [ -5. -21.  -8.   0.   0.  29.]\n",
      " [  0.   7.  12.   2.   0.  31.]\n",
      " [  0.   0.   0.   8.   2.  56.]\n",
      " [  0.   0.   0.   2.  10. -24.]]\n"
     ]
    }
   ],
   "source": [
    "matrix_array = np.loadtxt('src/sweep.txt')\n",
    "print(matrix_array)\n",
    "shape = matrix_array.shape"
   ]
  },
  {
   "cell_type": "code",
   "execution_count": 219,
   "metadata": {},
   "outputs": [],
   "source": [
    "def solve_sweep(matrix):\n",
    "    p = []\n",
    "    q = []\n",
    "\n",
    "    p.append(-c_i(matrix, 0) / b_i(matrix, 0))\n",
    "    q.append(d_i(matrix, 0) / b_i(matrix, 0))\n",
    "\n",
    "    for i in range(1, shape[0]):\n",
    "        p.append(p_i(matrix, i, p))\n",
    "        q.append(q_i(matrix, i, p ,q))\n",
    "\n",
    "    answer = [0] * shape[0]\n",
    "    answer[-1] = q[-1]\n",
    "\n",
    "    for i in range(shape[0] - 2, -1, -1):\n",
    "        answer[i] = x_i(i, p, q, answer)\n",
    "\n",
    "    print(\"Коэффициенты P:\")\n",
    "    print(p)\n",
    "    print(\"Коэффициенты Q:\")\n",
    "    print(q)\n",
    "    print(\"Решение:\")\n",
    "    return np.array(answer)\n",
    "\n",
    "def p_i(matrix, i, p):\n",
    "    return -c_i(matrix, i) / (b_i(matrix, i) + a_i(matrix, i) * p[i - 1])\n",
    "\n",
    "def q_i(matrix, i, p ,q):\n",
    "    return (d_i(matrix, i) - a_i(matrix, i) * q[i - 1]) / (b_i(matrix, i) + a_i(matrix, i) * p[i - 1])\n",
    "\n",
    "def x_i(i, p, q, answer):\n",
    "    return p[i] * answer[i + 1] + q[i]\n",
    "\n",
    "def a_i(matrix, i):\n",
    "    if i == 0:\n",
    "        return 0\n",
    "    return matrix[i, i - 1]\n",
    "\n",
    "def b_i(matrix, i):\n",
    "    return matrix[i, i]\n",
    "\n",
    "def c_i(matrix, i):\n",
    "    if i == (shape[0] - 1):\n",
    "        return 0\n",
    "    return matrix[i, i + 1]\n",
    "\n",
    "def d_i(matrix, i):\n",
    "    return matrix[i, -1]"
   ]
  },
  {
   "cell_type": "code",
   "execution_count": 220,
   "metadata": {},
   "outputs": [
    {
     "name": "stdout",
     "output_type": "stream",
     "text": [
      "Коэффициенты P:\n",
      "[-0.9, -0.48484848484848486, -0.23239436619718312, -0.25, 0.0]\n",
      "Коэффициенты Q:\n",
      "[-0.7, -1.5454545454545454, 4.859154929577465, 7.0, -4.0]\n",
      "Решение:\n",
      "[ 2. -3.  3.  8. -4.]\n"
     ]
    }
   ],
   "source": [
    "print(solve_sweep(matrix_array))"
   ]
  },
  {
   "attachments": {},
   "cell_type": "markdown",
   "metadata": {},
   "source": [
    "## Метод итераций\n",
    "\n",
    "Основан на приведении исходного уравнения $Ax = B$ к эквивалентному виду $x = \\alpha x + \\beta$\n",
    "\n",
    "Один из способов построения матриц $\\alpha$, $\\beta$ (метод Якоби):\n",
    "\n",
    "$\\alpha_{ij} = -\\frac{a_{ij}}{a_{ii}} (\\alpha_{ii} = 0), \\beta_i = \\frac{b_i}{a_{ii}}$\n",
    "\n",
    "В таком случае решения ищутся по следующему итерационному процессу:\n",
    "\n",
    "$x^{(k)} = \\beta + \\alpha x^{(k - 1)}$"
   ]
  },
  {
   "cell_type": "code",
   "execution_count": 221,
   "metadata": {},
   "outputs": [
    {
     "name": "stdout",
     "output_type": "stream",
     "text": [
      "[[  21.    1.   -8.    4. -119.]\n",
      " [  -9.  -23.   -2.    4.   79.]\n",
      " [   7.   -1.  -17.    6.  -24.]\n",
      " [   8.    8.   -4.  -26.  -52.]]\n"
     ]
    }
   ],
   "source": [
    "matrix_array = np.loadtxt('src/iterations.txt')\n",
    "print(matrix_array)\n",
    "shape = matrix_array.shape"
   ]
  },
  {
   "cell_type": "code",
   "execution_count": 222,
   "metadata": {},
   "outputs": [],
   "source": [
    "def check_diagonal_dominance(matrix):\n",
    "    shape = matrix.shape\n",
    "    for row in range (shape[0]):\n",
    "        row_sum = np.sum(np.abs(matrix), axis=1)\n",
    "        if np.abs(matrix[row, row]) < (row_sum[row] - np.abs(matrix[row, -1]) - np.abs(matrix[row, row])):\n",
    "            return False\n",
    "    return True\n",
    "    \n",
    "def solve_iterations(matrix, eps):\n",
    "    if not check_diagonal_dominance(matrix):\n",
    "        return\n",
    "    matrix = get_non_zero_elements_at_diagonal(matrix)\n",
    "\n",
    "    beta = get_betas_column(matrix)\n",
    "    alpha = get_alphas_column(matrix)\n",
    "\n",
    "    x = np.copy(beta)\n",
    "    iterations = 0\n",
    "    while True:\n",
    "        iterations += 1\n",
    "        x_i = beta + np.matmul(alpha, x)\n",
    "        if is_accuracy_achieved(x_i, x, eps):\n",
    "            return x_i.T[0], iterations\n",
    "        x = x_i\n",
    "\n",
    "def is_accuracy_achieved(x, x_prev, eps):\n",
    "    return np.max(np.abs(x - x_prev)) <= eps\n",
    "\n",
    "def get_betas_column(matrix):\n",
    "    beta = np.zeros((shape[0], 1))\n",
    "    for i in range(0, shape[0]):\n",
    "        beta[i, :] = matrix[i, -1] / matrix[i, i]\n",
    "\n",
    "    return beta\n",
    "\n",
    "def get_alphas_column(matrix):\n",
    "    alpha = np.zeros((shape[0], shape[0]))\n",
    "\n",
    "    for i in range(0, shape[0]):\n",
    "        for j in range(0, shape[0]):\n",
    "            if i == j:\n",
    "                continue\n",
    "            else:\n",
    "                alpha[i, j] = -matrix[i, j] / matrix[i, i]\n",
    "\n",
    "    return alpha\n",
    "\n",
    "def get_non_zero_elements_at_diagonal(matrix):\n",
    "    for column in range (0, shape[0]):\n",
    "        if matrix[column, column] == 0:\n",
    "            set_non_zero_element_for_column(matrix, column)\n",
    "\n",
    "    return matrix\n",
    "\n",
    "def set_non_zero_element_for_column(matrix, column):\n",
    "    for row in range (0, shape[0]):\n",
    "        if matrix[row, column] != 0:\n",
    "            matrix[[column, row]] = matrix[[row, column]]\n",
    "            return"
   ]
  },
  {
   "cell_type": "code",
   "execution_count": 223,
   "metadata": {},
   "outputs": [
    {
     "name": "stdout",
     "output_type": "stream",
     "text": [
      "Решение:\n",
      "[-6. -1. -1.  0.]\n",
      "Итерации: 18\n"
     ]
    }
   ],
   "source": [
    "x, iterations = solve_iterations(matrix_array, 0.00001)\n",
    "print(\"Решение:\")\n",
    "print(x)\n",
    "print(\"Итерации: {0}\".format(iterations))"
   ]
  },
  {
   "attachments": {},
   "cell_type": "markdown",
   "metadata": {},
   "source": [
    "## Метод Зейделя\n",
    "\n",
    "Отличается от методы итераций тем, что при вычислении очередного приближения решения $x^{(k)}$ считаются не все значения, а часть используются с предыдущей итерации. То есть:\n",
    "\n",
    "$x^{(k + 1)} = \\beta + B x^{(k + 1)} + C x^{(k)}, \\alpha = B + C$"
   ]
  },
  {
   "cell_type": "code",
   "execution_count": 224,
   "metadata": {},
   "outputs": [],
   "source": [
    "def solve_zeidel(matrix, eps):\n",
    "    if not check_diagonal_dominance(matrix):\n",
    "        return\n",
    "\n",
    "    matrix = get_non_zero_elements_at_diagonal(matrix)\n",
    "\n",
    "    beta = get_betas_column(matrix)\n",
    "    alpha = get_alphas_column(matrix)\n",
    "\n",
    "    x = beta\n",
    "    iterations = 0\n",
    "\n",
    "    while True:\n",
    "        iterations += 1\n",
    "        x_n = np.copy(x)\n",
    "        for i in range (shape[0]):\n",
    "             x_n[i] = beta[i] + sum(alpha[i, j] * x_n[j] for j in range(i)) + sum(alpha[i, j] * x[j] for j in range(i, shape[0]))\n",
    "\n",
    "        if is_accuracy_achieved(x_n, x, eps):\n",
    "            return x_n.T[0], iterations\n",
    "\n",
    "        x = x_n"
   ]
  },
  {
   "cell_type": "code",
   "execution_count": 225,
   "metadata": {},
   "outputs": [
    {
     "name": "stdout",
     "output_type": "stream",
     "text": [
      "Решение:\n",
      "[-6. -1. -1.  0.]\n",
      "Итерации: 10\n"
     ]
    }
   ],
   "source": [
    "x, iterations = solve_zeidel(matrix_array, 0.00001)\n",
    "print(\"Решение:\")\n",
    "print(x)\n",
    "print(\"Итерации: {0}\".format(iterations))"
   ]
  },
  {
   "attachments": {},
   "cell_type": "markdown",
   "metadata": {},
   "source": [
    "## Метод вращений\n",
    "\n",
    "Используется для нахождения собственных значений и векторов симметрических матриц\n",
    "\n",
    "На каждой итерации ставится задача обнуления макиммального недиагонального элемента матрицы с помощью операции $A^{(k + 1)} = U^{(k)T} A^{(k)} U^{(K)}$\n",
    "\n",
    "Матрица $U^{(k)}$ определяется:\n",
    "\n",
    "$u^{(k)}_{ij} = -\\sin(\\varphi^{(k)}), u^{(k)}_{ji} = \\sin(\\varphi^{(k)})$\n",
    "\n",
    "$u^{(k)}_{ii} = u^{(k)}_{jj} = \\cos(\\varphi^{(k)})$\n",
    "\n",
    "$\\varphi^{(k)} = \\frac{1}{2} \\arctan(\\frac{2 a^{(k)}_{ij}}{a^{(k)}_{ii} - a^{(k)}_{jj}})$\n",
    "\n",
    "По окончании итерационного процесса получим диагональную матрицу $\\Lambda$, элементы диагонали которой будут собственными значениями исходной матрицы, и матрицы $U^{(0)}, ..., U^{(n - 1)}$ - координатные столбцы их произведения будут собственными векторами исходной матрицы"
   ]
  },
  {
   "cell_type": "code",
   "execution_count": 226,
   "metadata": {},
   "outputs": [
    {
     "name": "stdout",
     "output_type": "stream",
     "text": [
      "[[-3. -2. -4.]\n",
      " [-2. -3. -7.]\n",
      " [-4. -7. -3.]]\n"
     ]
    }
   ],
   "source": [
    "matrix_array = np.loadtxt('src/rotations.txt')\n",
    "print(matrix_array)\n",
    "shape = matrix_array.shape"
   ]
  },
  {
   "cell_type": "code",
   "execution_count": 227,
   "metadata": {},
   "outputs": [],
   "source": [
    "def solve_rotations(matrix, eps):\n",
    "    if not check_symmetry(matrix):\n",
    "        return\n",
    "\n",
    "    a = np.copy(matrix)\n",
    "    rotation_matrices = []\n",
    "    iterations = 0\n",
    "    while True:\n",
    "        i, j = get_position_of_max_non_diagonal_element(a)\n",
    "        max_element = a[i, j]\n",
    "        phi = 1/2 * np.arctan(2*max_element / (a[i, i] - a[j, j])) if a[i, i] != a[j, j] else np.pi / 4\n",
    "        rotation_matrix = build_rotation_matrix((i, j), shape[0], phi)\n",
    "        a_k = np.matmul(np.matmul(rotation_matrix.T, a), rotation_matrix)\n",
    "        if is_accuracy_achieved(a_k, eps):\n",
    "            return np.diagonal(a_k), get_eigenvectors(rotation_matrices), iterations\n",
    "        else:\n",
    "            a = a_k\n",
    "            rotation_matrices.append(rotation_matrix)\n",
    "            iterations += 1\n",
    "\n",
    "def check_symmetry(matrix):\n",
    "    return np.allclose(matrix, matrix.T)\n",
    "\n",
    "\n",
    "def get_position_of_max_non_diagonal_element(matrix):\n",
    "    matrix_for_subtract = np.identity(shape[0]) * np.diagonal(matrix)\n",
    "    matrix = np.abs(matrix - matrix_for_subtract)\n",
    "    element =  np.max(matrix)\n",
    "    indexes =  np.where(matrix == element)\n",
    "    return indexes[0][0], indexes[1][0]\n",
    "\n",
    "def build_rotation_matrix(position_of_max_element, size, phi):\n",
    "    rotation_matrix = np.identity(size)\n",
    "    i, j = position_of_max_element\n",
    "    rotation_matrix[i, j] = -np.sin(phi)\n",
    "    rotation_matrix[j, i] = np.sin(phi)\n",
    "    rotation_matrix[i, i] = rotation_matrix[j, j] = np.cos(phi)\n",
    "    return rotation_matrix\n",
    "\n",
    "def is_accuracy_achieved(matrix, eps):\n",
    "    matrix_for_subtract = np.identity(shape[0]) * np.diagonal(matrix)\n",
    "    matrix = np.power(matrix - matrix_for_subtract, 2)\n",
    "    sum_of_elements = np.power(np.sum(matrix) / 2, 0.5)\n",
    "    return sum_of_elements < eps\n",
    "\n",
    "def get_eigenvectors(rotation_matrices):\n",
    "    result = rotation_matrices[0]\n",
    "    if len(rotation_matrices) > 1:\n",
    "        for i in range(1, len(rotation_matrices)):\n",
    "            result = np.matmul(result, rotation_matrices[i])\n",
    "\n",
    "    return result"
   ]
  },
  {
   "cell_type": "code",
   "execution_count": 228,
   "metadata": {},
   "outputs": [
    {
     "name": "stdout",
     "output_type": "stream",
     "text": [
      "Собственные зачения:\n",
      "[ -1.306 -12.023   4.329]\n",
      "Собственные векторы:\n",
      "[ 0.874 -0.466 -0.137],\n",
      "[0.43  0.611 0.665],\n",
      "[-0.226 -0.64   0.735],\n",
      "Итерации: 6\n"
     ]
    }
   ],
   "source": [
    "eigenvalues, eigenvectors, iterations = solve_rotations(matrix_array, 0.00001)\n",
    "print(\"Собственные зачения:\")\n",
    "print(eigenvalues)\n",
    "print(\"Собственные векторы:\")\n",
    "for vector in eigenvectors.T:\n",
    "    print(vector, end=\",\\n\")\n",
    "print(\"Итерации: {0}\".format(iterations))"
   ]
  },
  {
   "attachments": {},
   "cell_type": "markdown",
   "metadata": {},
   "source": [
    "## QR-разложение\n",
    "\n",
    "Используется для нахождения собственных значений\n",
    "\n",
    "В основе лежит представление матрицы в виде $A = QR$, где $Q$ - ортогональная матрица, а $R$ - верхняя треугольная\n",
    "\n",
    "В алгоритме используется преобразование Хаусхолдера:\n",
    "\n",
    "$H = E - \\frac{2}{\\nu^T \\nu}\\nu \\nu^T$\n",
    "\n",
    "В конце итерационного процесса получим матрицу $R$ и матрицу $Q = H^{(1)} ... H^{(n - 1)}$"
   ]
  },
  {
   "cell_type": "code",
   "execution_count": 229,
   "metadata": {},
   "outputs": [
    {
     "name": "stdout",
     "output_type": "stream",
     "text": [
      "[[ 7.  6. -3.]\n",
      " [ 5. -6.  8.]\n",
      " [-7.  4. -5.]]\n"
     ]
    }
   ],
   "source": [
    "matrix_array = np.loadtxt('src/qr.txt')\n",
    "print(matrix_array)\n",
    "shape = matrix_array.shape"
   ]
  },
  {
   "cell_type": "code",
   "execution_count": 230,
   "metadata": {},
   "outputs": [],
   "source": [
    "def solve_qr(matrix, eps):\n",
    "    a = matrix\n",
    "    iterations = 0\n",
    "    while True:\n",
    "        iterations += 1\n",
    "        h_matrices = []\n",
    "        r = a\n",
    "        for column in range(shape[1] - 1):\n",
    "            v = get_v_vector(r, column)\n",
    "            h = get_householder_matrix(v)\n",
    "            h_matrices.append(h)\n",
    "            r = np.matmul(h, r)\n",
    "\n",
    "        q = muliply_matrices(h_matrices)\n",
    "        a = np.matmul(r, q)\n",
    "        if is_accuracy_achieved(a, eps):\n",
    "            return np.diagonal(a), iterations\n",
    "\n",
    "def get_v_vector(matrix, column):\n",
    "    v = np.zeros(shape[0])\n",
    "    v[column] =  matrix[column, column] + np.sign(matrix[column, column]) * np.sqrt(np.sum(np.power(matrix[column:, column], 2)))\n",
    "    v[column + 1:] = matrix[column + 1:, column]\n",
    "    return np.atleast_2d(v).T\n",
    "\n",
    "def get_householder_matrix(v):\n",
    "    e = np.identity(v.shape[0])\n",
    "    return e - 2 * np.matmul(v, v.T)/np.matmul(v.T, v)\n",
    "\n",
    "def muliply_matrices(matrices):\n",
    "    result = matrices[0]\n",
    "    if len(matrices) > 1:\n",
    "        for i in range(1, len(matrices)):\n",
    "            result = np.matmul(result, matrices[i])\n",
    "\n",
    "    return result\n",
    "\n",
    "def is_accuracy_achieved(matrix, eps):\n",
    "    sum_of_subdiagonal_elements = 0\n",
    "    for i in range(1, shape[0]):\n",
    "        sum_of_subdiagonal_elements += np.sum(np.power(np.diagonal(matrix, -i), 2))\n",
    "    return np.sqrt(sum_of_subdiagonal_elements) < eps"
   ]
  },
  {
   "cell_type": "code",
   "execution_count": 231,
   "metadata": {},
   "outputs": [
    {
     "name": "stdout",
     "output_type": "stream",
     "text": [
      "Собственные значения:\n",
      "[-13.983   8.907   1.076]\n",
      "Итерации: 35\n"
     ]
    }
   ],
   "source": [
    "values, iterations = solve_qr(matrix_array, 0.00001)\n",
    "print(\"Собственные значения:\")\n",
    "print(values)\n",
    "print(\"Итерации: {0}\".format(iterations))"
   ]
  }
 ],
 "metadata": {
  "kernelspec": {
   "display_name": ".venv",
   "language": "python",
   "name": "python3"
  },
  "language_info": {
   "codemirror_mode": {
    "name": "ipython",
    "version": 3
   },
   "file_extension": ".py",
   "mimetype": "text/x-python",
   "name": "python",
   "nbconvert_exporter": "python",
   "pygments_lexer": "ipython3",
   "version": "3.8.4"
  },
  "orig_nbformat": 4
 },
 "nbformat": 4,
 "nbformat_minor": 2
}
